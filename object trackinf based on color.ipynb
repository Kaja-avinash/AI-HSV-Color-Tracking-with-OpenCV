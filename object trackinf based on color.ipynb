{
 "cells": [
  {
   "cell_type": "code",
   "execution_count": 1,
   "metadata": {},
   "outputs": [
    {
     "name": "stdout",
     "output_type": "stream",
     "text": [
      "Press 'q' in the OpenCV window to stop.\n"
     ]
    }
   ],
   "source": [
    "import cv2\n",
    "import numpy as np\n",
    "import imutils\n",
    "\n",
    "# Start video capture\n",
    "cap = cv2.VideoCapture(0)\n",
    "\n",
    "# Create trackbars for HSV adjustment\n",
    "cv2.namedWindow(\"Trackbars\")\n",
    "\n",
    "def nothing(x):\n",
    "    pass\n",
    "\n",
    "# Create 6 trackbars\n",
    "cv2.createTrackbar(\"LH\", \"Trackbars\", 98, 179, nothing)\n",
    "cv2.createTrackbar(\"LS\", \"Trackbars\", 48, 255, nothing)\n",
    "cv2.createTrackbar(\"LV\", \"Trackbars\", 86, 255, nothing)\n",
    "cv2.createTrackbar(\"UH\", \"Trackbars\", 163, 179, nothing)\n",
    "cv2.createTrackbar(\"US\", \"Trackbars\", 255, 255, nothing)\n",
    "cv2.createTrackbar(\"UV\", \"Trackbars\", 255, 255, nothing)\n",
    "\n",
    "print(\"Press 'q' in the OpenCV window to stop.\")\n",
    "\n",
    "while True:\n",
    "    ret, frame = cap.read()\n",
    "    if not ret:\n",
    "        break\n",
    "\n",
    "    frame = imutils.resize(frame, width=600)\n",
    "    blurred = cv2.GaussianBlur(frame, (11, 11), 0)\n",
    "    hsv = cv2.cvtColor(blurred, cv2.COLOR_BGR2HSV)\n",
    "\n",
    "    # Get values from trackbars\n",
    "    lh = cv2.getTrackbarPos(\"LH\", \"Trackbars\")\n",
    "    ls = cv2.getTrackbarPos(\"LS\", \"Trackbars\")\n",
    "    lv = cv2.getTrackbarPos(\"LV\", \"Trackbars\")\n",
    "    uh = cv2.getTrackbarPos(\"UH\", \"Trackbars\")\n",
    "    us = cv2.getTrackbarPos(\"US\", \"Trackbars\")\n",
    "    uv = cv2.getTrackbarPos(\"UV\", \"Trackbars\")\n",
    "\n",
    "    lower = np.array([lh, ls, lv])\n",
    "    upper = np.array([uh, us, uv])\n",
    "\n",
    "    mask = cv2.inRange(hsv, lower, upper)\n",
    "    mask = cv2.erode(mask, None, iterations=2)\n",
    "    mask = cv2.dilate(mask, None, iterations=2)\n",
    "\n",
    "    # Find and draw contours\n",
    "    cnts = cv2.findContours(mask.copy(), cv2.RETR_EXTERNAL, cv2.CHAIN_APPROX_SIMPLE)[-2]\n",
    "    center = None\n",
    "\n",
    "    if len(cnts) > 0:\n",
    "        c = max(cnts, key=cv2.contourArea)\n",
    "        ((x, y), radius) = cv2.minEnclosingCircle(c)\n",
    "        M = cv2.moments(c)\n",
    "        if M[\"m00\"] != 0:\n",
    "            center = (int(M[\"m10\"] / M[\"m00\"]), int(M[\"m01\"] / M[\"m00\"]))\n",
    "            if radius > 10:\n",
    "                cv2.circle(frame, (int(x), int(y)), int(radius), (0, 255, 255), 2)\n",
    "                cv2.circle(frame, center, 5, (0, 0, 255), -1)\n",
    "\n",
    "    cv2.imshow(\"Tracking\", frame)\n",
    "    cv2.imshow(\"Mask\", mask)\n",
    "\n",
    "    if cv2.waitKey(1) & 0xFF == ord('q'):\n",
    "        break\n",
    "\n",
    "cap.release()\n",
    "cv2.destroyAllWindows()\n"
   ]
  }
 ],
 "metadata": {
  "kernelspec": {
   "display_name": "Python 3",
   "language": "python",
   "name": "python3"
  },
  "language_info": {
   "codemirror_mode": {
    "name": "ipython",
    "version": 3
   },
   "file_extension": ".py",
   "mimetype": "text/x-python",
   "name": "python",
   "nbconvert_exporter": "python",
   "pygments_lexer": "ipython3",
   "version": "3.13.2"
  }
 },
 "nbformat": 4,
 "nbformat_minor": 2
}
